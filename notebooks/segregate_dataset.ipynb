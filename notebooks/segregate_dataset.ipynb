{
 "cells": [
  {
   "cell_type": "code",
   "execution_count": null,
   "id": "fee6b03d-7fda-4709-9465-212e6dfc6ff7",
   "metadata": {},
   "outputs": [],
   "source": [
    "!wget -nc https://github.com/Manning-LP-What-s-The-News/Starter-Repository/releases/download/v0.1.0/cnn_stories.tgz"
   ]
  },
  {
   "cell_type": "code",
   "execution_count": null,
   "id": "d6531b77-2ff2-4dbf-8644-3d528a3b8f4f",
   "metadata": {},
   "outputs": [],
   "source": [
    "!tar -zx --skip-old-files -f cnn_stories.tgz"
   ]
  },
  {
   "cell_type": "code",
   "execution_count": null,
   "id": "cb3c23cf-5873-4692-9be5-159680869e13",
   "metadata": {},
   "outputs": [],
   "source": [
    "!cat cnn/stories/0005d61497d21ff37a17751829bd7e3b6e4a7c5c.story"
   ]
  },
  {
   "cell_type": "code",
   "execution_count": 4,
   "id": "e0cec4b5-1f2c-4df5-b0c0-fbf1c4e8ae9a",
   "metadata": {},
   "outputs": [],
   "source": [
    "def segregate_story(text):\n",
    "    lines = text.split('\\n')\n",
    "    \n",
    "    i = 0\n",
    "    highlights = []\n",
    "    story_lines = []\n",
    "    \n",
    "    def parse_story_line():\n",
    "        return i+1, lines[i]\n",
    "    \n",
    "    def parse_highlight():\n",
    "        return i+4, lines[i+2]\n",
    "    \n",
    "    while i < len(lines):\n",
    "        line = lines[i]\n",
    "        if line.startswith('@highlight'):\n",
    "            i, highlight = parse_highlight()\n",
    "            highlights.append(highlight)\n",
    "        else:\n",
    "            i, story_line = parse_story_line()\n",
    "            story_lines.append(story_line)\n",
    "    \n",
    "    return {\n",
    "        'highlights': highlights,\n",
    "        'story': '\\n'.join(story_lines)\n",
    "    }"
   ]
  },
  {
   "cell_type": "code",
   "execution_count": 5,
   "id": "1d6f01e4-2217-4bbd-bbd5-1a5ee500de70",
   "metadata": {},
   "outputs": [],
   "source": [
    "from pathlib import Path\n",
    "\n",
    "def iter_cnn_stories(data_root='./cnn'):\n",
    "    p = Path(data_root)\n",
    "    for story_p in p.glob('**/*.story'):\n",
    "        with story_p.open('r') as story_f:\n",
    "            yield story_f.read()"
   ]
  },
  {
   "cell_type": "code",
   "execution_count": 6,
   "id": "e4e0cd9a-1472-4096-a12f-263b920040ef",
   "metadata": {},
   "outputs": [
    {
     "data": {
      "text/plain": [
       "{'highlights': ['NEW: Former President Jimmy Carter says integrity of the election is intact',\n",
       "  'NEW: A meeting will be held Sunday for appeals and to set a date to declare results',\n",
       "  'Polls show Mohamed Morsi, the Muslim Brotherhood candidate, in first',\n",
       "  \"He is followed by Ahmed Shafik, Hosni Mubarak's last prime minister\"],\n",
       " 'story': 'Cairo (CNN) -- Two distinctive Egyptian presidential candidates, one representing resurgent Islamists and the other a weathered veteran of the country\\'s old guard, have begun maneuvering for wider political support ahead of an expected runoff next month.\\n\\nMuslim Brotherhood candidate Mohamed Morsi huddled with politicians Saturday to stave off what his campaign sees as a return to the policies of longtime President Hosni Mubarak, toppled last year in the country\\'s historic uprising.\\n\\n\"We face desperate attempts to replicate the old system of governance in new attire that might fool some, but the masses of our people and the enlightened revolutionary forces will not give these the opportunity,\" the Morsi campaign said in a statement. \"We must, together, seek out ways to save the blessed revolution.\"\\n\\nYet his opponent, former Prime Minister Ahmed Shafik, distanced himself from Egypt\\'s deposed leader as he briefed reporters, saying there\\'s \"no going back\" to the Mubarak years.\\n\\n\"We hear talks about deals, compromises that some are trying to make. I assure to you that the only deal that we need to make at this moment is with the Egyptian people,\" Shafik said.\\n\\n\"To all Egyptians from all parties and to all the independents, to the children of April 6 movement, your revolution has been hijacked from you, the revolution that you have started. Therefore, I pledge to you that I will do my best to restore its glory back to you and that you will be in the front lines of this new phase.\"\\n\\nThere were 13 candidates on the first-round presidential ballot, although two withdrew from the race after ballots were printed. If no candidate gets a majority of the vote in the first round, the top two will progress to a runoff to be held June 16-17.\\n\\nThe winner of the landmark vote will become Egypt\\'s first freely elected president.\\n\\nA runoff between Morsi and Shafik appears likely, according to unofficial results reported by Egyptian newspaper Al Ahram Online. Egyptian elections officials said the results being published by the media were \"not inaccurate.\"\\n\\nThe unofficial Al Ahram count gave Morsi 25% of the vote with results in from all 27 provinces, with Shafik close behind with 24% of the vote. In third at 22% is leftist Hamdeen Sabahy.\\n\\nMorsi is an American-educated engineer who vows to stand for democracy, women\\'s rights and peaceful relations with Israel if he wins the Egyptian presidency. Still, he\\'s an Islamist figure who has argued for barring women from the Egyptian presidency and called Israeli leaders \"vampires\" and \"killers.\"\\n\\nShafik, also a former air force officer with close ties to Egypt\\'s powerful military, is seen as representing the interests of the old guard -- those who lost out when President Mubarak was ousted.\\n\\nOn Saturday, Sabahy stressed to reporters that the final results have not yet been announced and said his campaign has filed appeals.\\n\\n\"With the will of the people, we will succeed. The Egyptian administration is looking at evidence of fraud,\" he said, according to his Twitter page.\\n\\n\"All of the evidence proves that we acquired most of the votes and I thank the people for their valuable trust,\" Sabahy said.\\n\\nAl Ahram\\'s count put Abdelmonen Abol Fotoh, a moderate Islamist running as an independent, and Amre Moussa, who previously served as foreign minister and headed the Arab League, in fourth and fifth places, respectively.\\n\\nFormer U.S. President Jimmy Carter, who led a delegation observing the voting, told reporters in Cairo he couldn\\'t say \"the entire process has been proper\" because of some restraints on observers. But the group found the election period to be peaceful, with citizens accepting the voting process as \"quite successful.\"\\n\\n\"There were many violations, and I think each violation is serious. But I think collectively they did not affect the basic integrity of the election,\" he said.\\n\\nCarter said there were no apparent patterns in election procedures that \"favored a particular candidate.\"\\n\\nAdel Saeed, official spokesman for Egypt\\'s prosecutor-general, said his office is working with the country\\'s election officials to investigate voter \"irregularities.\" Most of them are from the Morsi, Shafik and Moussa campaigns.\\n\\n\"This matter will be taken very seriously before the announcement of official results,\" Saeed said.\\n\\nThe Presidential Elections Committee has finished its collection and examination of the first-round votes, having \"confirmed and validated (their) safety and accuracy,\" according to a report Saturday from the state-run Egypt News Agency.\\n\\nA meeting will take place Sunday afternoon to discuss appeals, as well as to set the date when the official results will be announced, the report said.\\n\\n\"A lot of Egyptians will feel like this is the worst choice that they would have to make because if it really is between Morsi and Shafik, then these are the two most polarizing candidates,\" Khaled Elgindy, a visiting fellow at the Brookings Institution in Washington who is currently in Egypt.\\n\\nIf the first-round results in a runoff between Morsi and Shafik, many Egyptians -- particularly liberals and \"revolutionaries\" -- will be very disappointed, Elgindy said\\n\\nSabahy has had the backing of many who supported the Cairo\\'s Tahrir Square uprising last year to protest Mubarak\\'s rule. Sabahy is a proponent of late and revered Egyptian leader Gamal Abdel Nasser, who ruled the country in the \\'50s and \\'60s.\\n\\nElgindy said it is hard to predict where the votes of liberals and revolutionaries will go if they do participate, but the Muslim Brotherhood will have to work hard if it wants to win them over, having alienated many in the past. Many people may opt to stay at home rather than make a \"very difficult choice\" in the runoff, Elgindy said.\\n\\nThere is also a chance of further protests and even violence regardless of who wins, Elgindy said, as revolutionary elements become increasingly marginalized and radicalized.\\n\\nMubarak led the North African nation for 30 years before being forced out last year amid a popular outcry.\\n\\nThe voting is a monumental achievement for those who worked to topple Mubarak in one of the seminal developments of the Arab Spring. And it could reverberate far beyond the country\\'s borders, since Egypt is in many ways the center of gravity of the Arab world.\\n\\nDistrust and anger in Egypt, particularly against the military\\'s power in governmental affairs, have inspired continued protests, some of which have been marked by deadly clashes. Many protesters are upset about what they see as the slow pace of reform since Mubarak\\'s ouster. Some are also concerned that the country\\'s military leadership is delaying the transition to civilian rule.\\n\\nWorries about the powerful military possibly swaying this week\\'s vote persist despite the insistence of the Supreme Council of the Armed Forces that it will hand over power to an elected civilian government.\\n\\nThe military leaders put armored personnel carriers on the streets with loudspeakers broadcasting a message that they will relinquish power, but that did not convince doubters.\\n\\nIn January, two Islamist parties -- the Freedom and Justice Party with 235 seats and the conservative Al Nour party with 121 seats -- won about 70% of the seats in the lower house of parliament in the first elections for an elected governing body in the post-Mubarak era. The rest of the assembly\\'s 498 seats were divided among other parties.\\n\\nCNN\\'s Salma Abdelaziz and Ingrid Formanek, and journalists Ian Lee and Mohamed Fadel Fahmy contributed to this report.\\n'}"
      ]
     },
     "execution_count": 6,
     "metadata": {},
     "output_type": "execute_result"
    }
   ],
   "source": [
    "segregate_story(next(iter_cnn_stories()))"
   ]
  },
  {
   "cell_type": "code",
   "execution_count": 7,
   "id": "b4084617-1dc4-414d-b730-c892c8ffe40c",
   "metadata": {},
   "outputs": [
    {
     "name": "stderr",
     "output_type": "stream",
     "text": [
      "100%|██████████████████████████████████████████████████████████████████████████████████████████████████████████| 92579/92579 [00:03<00:00, 26975.55it/s]\n"
     ]
    }
   ],
   "source": [
    "from tqdm import tqdm\n",
    "\n",
    "stories = [segregate_story(story) for story in tqdm(iter_cnn_stories(), total=92579)]"
   ]
  },
  {
   "cell_type": "code",
   "execution_count": 8,
   "id": "f286e7a9-0a41-48df-91a0-2e1e8a272d33",
   "metadata": {},
   "outputs": [
    {
     "data": {
      "text/plain": [
       "92579"
      ]
     },
     "execution_count": 8,
     "metadata": {},
     "output_type": "execute_result"
    }
   ],
   "source": [
    "len(stories)"
   ]
  },
  {
   "cell_type": "code",
   "execution_count": 9,
   "id": "6c2eb522-c45f-499e-9ac7-9009267d4e00",
   "metadata": {},
   "outputs": [],
   "source": [
    "import pickle\n",
    "\n",
    "def save_stories(stories, target_path):\n",
    "    with open(target_path, 'wb') as f:\n",
    "        pickle.dump(stories, f)"
   ]
  },
  {
   "cell_type": "code",
   "execution_count": 10,
   "id": "404109cf-d350-47d2-9291-b8a8846d662d",
   "metadata": {},
   "outputs": [],
   "source": [
    "save_stories(stories, 'cnn_stories.pkl')"
   ]
  },
  {
   "cell_type": "code",
   "execution_count": null,
   "id": "87102c79-7c1b-402a-832f-2eeefac6f661",
   "metadata": {},
   "outputs": [],
   "source": []
  }
 ],
 "metadata": {
  "kernelspec": {
   "display_name": "Python 3 (ipykernel)",
   "language": "python",
   "name": "python3"
  },
  "language_info": {
   "codemirror_mode": {
    "name": "ipython",
    "version": 3
   },
   "file_extension": ".py",
   "mimetype": "text/x-python",
   "name": "python",
   "nbconvert_exporter": "python",
   "pygments_lexer": "ipython3",
   "version": "3.10.5"
  }
 },
 "nbformat": 4,
 "nbformat_minor": 5
}
