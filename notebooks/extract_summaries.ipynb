{
 "cells": [
  {
   "cell_type": "code",
   "execution_count": 1,
   "id": "fe6eba6a-999c-48d2-a4e2-e8b996ab0698",
   "metadata": {},
   "outputs": [],
   "source": [
    "# from segregate dataset\n",
    "import pickle\n",
    "\n",
    "def load_stories(path='./cnn_stories.pkl'):\n",
    "    with open(path, 'rb') as f:\n",
    "        return pickle.load(f)"
   ]
  },
  {
   "cell_type": "code",
   "execution_count": 2,
   "id": "22bce70a-e484-4f76-86f1-06665a85bee1",
   "metadata": {},
   "outputs": [],
   "source": [
    "stories = load_stories()"
   ]
  },
  {
   "cell_type": "code",
   "execution_count": 3,
   "id": "ca102e61-7e24-45cf-8551-1c8f9db8c0fc",
   "metadata": {},
   "outputs": [],
   "source": [
    "def parse_story_into_sentences(story):\n",
    "    return [sentence for sentence in story['story'].split('\\n') if sentence and not sentence.isspace()]"
   ]
  },
  {
   "cell_type": "code",
   "execution_count": 4,
   "id": "e7570790-210c-46ce-affd-83fa237f9c3e",
   "metadata": {},
   "outputs": [],
   "source": [
    "from rouge import Rouge\n",
    "\n",
    "def get_rouge_score(sentence, reference, rouge_type=\"rouge-l\", score_type=\"f\"):\n",
    "    rouge = Rouge()\n",
    "    try:\n",
    "        return rouge.get_scores(sentence, reference)[0][rouge_type][score_type]\n",
    "    except ValueError:\n",
    "        return .0"
   ]
  },
  {
   "cell_type": "code",
   "execution_count": 5,
   "id": "4ec0ef5f-427e-46a2-b5b4-da75157da293",
   "metadata": {},
   "outputs": [],
   "source": [
    "def transform_story_with_sentences(story):\n",
    "    result = dict(story)\n",
    "    result['sentences'] = parse_story_into_sentences(story)\n",
    "    return result"
   ]
  },
  {
   "cell_type": "code",
   "execution_count": 6,
   "id": "ee8812de-3190-43a7-8515-dc29ef970230",
   "metadata": {},
   "outputs": [],
   "source": [
    "stories = [transform_story_with_sentences(story) for story in stories]"
   ]
  },
  {
   "cell_type": "code",
   "execution_count": 7,
   "id": "bd36aa39-31ba-44e2-ac78-b720eb676433",
   "metadata": {},
   "outputs": [],
   "source": [
    "def get_sentence_scores(sentences, highlights, score_function=get_rouge_score):\n",
    "    return [max(score_function(sentence, highlight) for highlight in highlights) for sentence in sentences]"
   ]
  },
  {
   "cell_type": "code",
   "execution_count": 8,
   "id": "c78be822-ac86-423f-a594-d62fa81fb3ee",
   "metadata": {},
   "outputs": [
    {
     "data": {
      "text/plain": [
       "[0.08510637917609795,\n",
       " 0.1395348801514333,\n",
       " 0.07272726975206624,\n",
       " 0.10526315378116359,\n",
       " 0.09756097146936366,\n",
       " 0.10169491130135033,\n",
       " 0.1276595711181531,\n",
       " 0.17391303856332718,\n",
       " 0.173913038941399,\n",
       " 0.14285713877551035,\n",
       " 0.07843136895040385,\n",
       " 0.08888888497777794,\n",
       " 0.1052631530193908,\n",
       " 0.17647058366782017,\n",
       " 0.12499999531250018,\n",
       " 0.09756097192147545,\n",
       " 0.16666666346666673,\n",
       " 0.22222221777777784,\n",
       " 0.14285713795918387,\n",
       " 0.13636363239669433,\n",
       " 0.12903225306971924,\n",
       " 0.13043477807183385,\n",
       " 0.42105262670360116,\n",
       " 0.1034482725802617,\n",
       " 0.12121211698806258,\n",
       " 0.08888888543209889,\n",
       " 0.13559321752370013,\n",
       " 0.0588235250346024,\n",
       " 0.11428570932244919,\n",
       " 0.12499999625000012,\n",
       " 0.0952380923557572,\n",
       " 0.09756097146936366,\n",
       " 0.05714285306122478,\n",
       " 0.11111110809327854,\n",
       " 0.1249999950000002]"
      ]
     },
     "execution_count": 8,
     "metadata": {},
     "output_type": "execute_result"
    }
   ],
   "source": [
    "get_sentence_scores(stories[0]['sentences'], stories[0]['highlights'])"
   ]
  },
  {
   "cell_type": "code",
   "execution_count": 9,
   "id": "7814e739-2ecb-4875-8060-10750ef104c2",
   "metadata": {},
   "outputs": [],
   "source": [
    "def transform_story_with_scores(story, score_function=get_rouge_score):\n",
    "    result = dict(story)\n",
    "    result['scores'] = get_sentence_scores(story['sentences'], story['highlights'], score_function)\n",
    "    return result"
   ]
  },
  {
   "cell_type": "code",
   "execution_count": 10,
   "id": "31af0a72-6b45-44e3-9ba2-c5dfcfe1f0d9",
   "metadata": {},
   "outputs": [],
   "source": [
    "stories = [transform_story_with_scores(story) for story in stories]"
   ]
  },
  {
   "cell_type": "code",
   "execution_count": 11,
   "id": "bdf3de45-f3ef-4a20-8a2e-2d76ec1bf92a",
   "metadata": {},
   "outputs": [],
   "source": [
    "def get_top_sentences_scores(sentences, scores, top=5):\n",
    "    scores_argsort = sorted(range(len(scores)), key=scores.__getitem__, reverse=True)\n",
    "    return [sentences[i] for i in scores_argsort][:top], [scores[i] for i in scores_argsort][:top]"
   ]
  },
  {
   "cell_type": "code",
   "execution_count": 12,
   "id": "eeaefbda-f359-413c-ad2f-2c738429a505",
   "metadata": {},
   "outputs": [],
   "source": [
    "def transform_story_with_top_scores(story, score_function=get_rouge_score, top=5):\n",
    "    result = dict(story)\n",
    "    scores = story['scores']\n",
    "    top_sentences, top_scores = get_top_sentences_scores(story['sentences'], scores, top)\n",
    "    result['top_sentences'] = top_sentences\n",
    "    result['top_scores'] = top_scores\n",
    "    return result"
   ]
  },
  {
   "cell_type": "code",
   "execution_count": 13,
   "id": "d7746c1a-61aa-4bef-b5f0-9ed3142496e5",
   "metadata": {},
   "outputs": [],
   "source": [
    "stories = [transform_story_with_top_scores(story) for story in stories]"
   ]
  },
  {
   "cell_type": "code",
   "execution_count": 14,
   "id": "399d0018-896e-4eab-963d-b30de2a2ce09",
   "metadata": {},
   "outputs": [
    {
     "data": {
      "text/plain": [
       "{'highlights': ['NEW: Former President Jimmy Carter says integrity of the election is intact',\n",
       "  'NEW: A meeting will be held Sunday for appeals and to set a date to declare results',\n",
       "  'Polls show Mohamed Morsi, the Muslim Brotherhood candidate, in first',\n",
       "  \"He is followed by Ahmed Shafik, Hosni Mubarak's last prime minister\"],\n",
       " 'story': 'Cairo (CNN) -- Two distinctive Egyptian presidential candidates, one representing resurgent Islamists and the other a weathered veteran of the country\\'s old guard, have begun maneuvering for wider political support ahead of an expected runoff next month.\\n\\nMuslim Brotherhood candidate Mohamed Morsi huddled with politicians Saturday to stave off what his campaign sees as a return to the policies of longtime President Hosni Mubarak, toppled last year in the country\\'s historic uprising.\\n\\n\"We face desperate attempts to replicate the old system of governance in new attire that might fool some, but the masses of our people and the enlightened revolutionary forces will not give these the opportunity,\" the Morsi campaign said in a statement. \"We must, together, seek out ways to save the blessed revolution.\"\\n\\nYet his opponent, former Prime Minister Ahmed Shafik, distanced himself from Egypt\\'s deposed leader as he briefed reporters, saying there\\'s \"no going back\" to the Mubarak years.\\n\\n\"We hear talks about deals, compromises that some are trying to make. I assure to you that the only deal that we need to make at this moment is with the Egyptian people,\" Shafik said.\\n\\n\"To all Egyptians from all parties and to all the independents, to the children of April 6 movement, your revolution has been hijacked from you, the revolution that you have started. Therefore, I pledge to you that I will do my best to restore its glory back to you and that you will be in the front lines of this new phase.\"\\n\\nThere were 13 candidates on the first-round presidential ballot, although two withdrew from the race after ballots were printed. If no candidate gets a majority of the vote in the first round, the top two will progress to a runoff to be held June 16-17.\\n\\nThe winner of the landmark vote will become Egypt\\'s first freely elected president.\\n\\nA runoff between Morsi and Shafik appears likely, according to unofficial results reported by Egyptian newspaper Al Ahram Online. Egyptian elections officials said the results being published by the media were \"not inaccurate.\"\\n\\nThe unofficial Al Ahram count gave Morsi 25% of the vote with results in from all 27 provinces, with Shafik close behind with 24% of the vote. In third at 22% is leftist Hamdeen Sabahy.\\n\\nMorsi is an American-educated engineer who vows to stand for democracy, women\\'s rights and peaceful relations with Israel if he wins the Egyptian presidency. Still, he\\'s an Islamist figure who has argued for barring women from the Egyptian presidency and called Israeli leaders \"vampires\" and \"killers.\"\\n\\nShafik, also a former air force officer with close ties to Egypt\\'s powerful military, is seen as representing the interests of the old guard -- those who lost out when President Mubarak was ousted.\\n\\nOn Saturday, Sabahy stressed to reporters that the final results have not yet been announced and said his campaign has filed appeals.\\n\\n\"With the will of the people, we will succeed. The Egyptian administration is looking at evidence of fraud,\" he said, according to his Twitter page.\\n\\n\"All of the evidence proves that we acquired most of the votes and I thank the people for their valuable trust,\" Sabahy said.\\n\\nAl Ahram\\'s count put Abdelmonen Abol Fotoh, a moderate Islamist running as an independent, and Amre Moussa, who previously served as foreign minister and headed the Arab League, in fourth and fifth places, respectively.\\n\\nFormer U.S. President Jimmy Carter, who led a delegation observing the voting, told reporters in Cairo he couldn\\'t say \"the entire process has been proper\" because of some restraints on observers. But the group found the election period to be peaceful, with citizens accepting the voting process as \"quite successful.\"\\n\\n\"There were many violations, and I think each violation is serious. But I think collectively they did not affect the basic integrity of the election,\" he said.\\n\\nCarter said there were no apparent patterns in election procedures that \"favored a particular candidate.\"\\n\\nAdel Saeed, official spokesman for Egypt\\'s prosecutor-general, said his office is working with the country\\'s election officials to investigate voter \"irregularities.\" Most of them are from the Morsi, Shafik and Moussa campaigns.\\n\\n\"This matter will be taken very seriously before the announcement of official results,\" Saeed said.\\n\\nThe Presidential Elections Committee has finished its collection and examination of the first-round votes, having \"confirmed and validated (their) safety and accuracy,\" according to a report Saturday from the state-run Egypt News Agency.\\n\\nA meeting will take place Sunday afternoon to discuss appeals, as well as to set the date when the official results will be announced, the report said.\\n\\n\"A lot of Egyptians will feel like this is the worst choice that they would have to make because if it really is between Morsi and Shafik, then these are the two most polarizing candidates,\" Khaled Elgindy, a visiting fellow at the Brookings Institution in Washington who is currently in Egypt.\\n\\nIf the first-round results in a runoff between Morsi and Shafik, many Egyptians -- particularly liberals and \"revolutionaries\" -- will be very disappointed, Elgindy said\\n\\nSabahy has had the backing of many who supported the Cairo\\'s Tahrir Square uprising last year to protest Mubarak\\'s rule. Sabahy is a proponent of late and revered Egyptian leader Gamal Abdel Nasser, who ruled the country in the \\'50s and \\'60s.\\n\\nElgindy said it is hard to predict where the votes of liberals and revolutionaries will go if they do participate, but the Muslim Brotherhood will have to work hard if it wants to win them over, having alienated many in the past. Many people may opt to stay at home rather than make a \"very difficult choice\" in the runoff, Elgindy said.\\n\\nThere is also a chance of further protests and even violence regardless of who wins, Elgindy said, as revolutionary elements become increasingly marginalized and radicalized.\\n\\nMubarak led the North African nation for 30 years before being forced out last year amid a popular outcry.\\n\\nThe voting is a monumental achievement for those who worked to topple Mubarak in one of the seminal developments of the Arab Spring. And it could reverberate far beyond the country\\'s borders, since Egypt is in many ways the center of gravity of the Arab world.\\n\\nDistrust and anger in Egypt, particularly against the military\\'s power in governmental affairs, have inspired continued protests, some of which have been marked by deadly clashes. Many protesters are upset about what they see as the slow pace of reform since Mubarak\\'s ouster. Some are also concerned that the country\\'s military leadership is delaying the transition to civilian rule.\\n\\nWorries about the powerful military possibly swaying this week\\'s vote persist despite the insistence of the Supreme Council of the Armed Forces that it will hand over power to an elected civilian government.\\n\\nThe military leaders put armored personnel carriers on the streets with loudspeakers broadcasting a message that they will relinquish power, but that did not convince doubters.\\n\\nIn January, two Islamist parties -- the Freedom and Justice Party with 235 seats and the conservative Al Nour party with 121 seats -- won about 70% of the seats in the lower house of parliament in the first elections for an elected governing body in the post-Mubarak era. The rest of the assembly\\'s 498 seats were divided among other parties.\\n\\nCNN\\'s Salma Abdelaziz and Ingrid Formanek, and journalists Ian Lee and Mohamed Fadel Fahmy contributed to this report.\\n',\n",
       " 'sentences': [\"Cairo (CNN) -- Two distinctive Egyptian presidential candidates, one representing resurgent Islamists and the other a weathered veteran of the country's old guard, have begun maneuvering for wider political support ahead of an expected runoff next month.\",\n",
       "  \"Muslim Brotherhood candidate Mohamed Morsi huddled with politicians Saturday to stave off what his campaign sees as a return to the policies of longtime President Hosni Mubarak, toppled last year in the country's historic uprising.\",\n",
       "  '\"We face desperate attempts to replicate the old system of governance in new attire that might fool some, but the masses of our people and the enlightened revolutionary forces will not give these the opportunity,\" the Morsi campaign said in a statement. \"We must, together, seek out ways to save the blessed revolution.\"',\n",
       "  'Yet his opponent, former Prime Minister Ahmed Shafik, distanced himself from Egypt\\'s deposed leader as he briefed reporters, saying there\\'s \"no going back\" to the Mubarak years.',\n",
       "  '\"We hear talks about deals, compromises that some are trying to make. I assure to you that the only deal that we need to make at this moment is with the Egyptian people,\" Shafik said.',\n",
       "  '\"To all Egyptians from all parties and to all the independents, to the children of April 6 movement, your revolution has been hijacked from you, the revolution that you have started. Therefore, I pledge to you that I will do my best to restore its glory back to you and that you will be in the front lines of this new phase.\"',\n",
       "  'There were 13 candidates on the first-round presidential ballot, although two withdrew from the race after ballots were printed. If no candidate gets a majority of the vote in the first round, the top two will progress to a runoff to be held June 16-17.',\n",
       "  \"The winner of the landmark vote will become Egypt's first freely elected president.\",\n",
       "  'A runoff between Morsi and Shafik appears likely, according to unofficial results reported by Egyptian newspaper Al Ahram Online. Egyptian elections officials said the results being published by the media were \"not inaccurate.\"',\n",
       "  'The unofficial Al Ahram count gave Morsi 25% of the vote with results in from all 27 provinces, with Shafik close behind with 24% of the vote. In third at 22% is leftist Hamdeen Sabahy.',\n",
       "  'Morsi is an American-educated engineer who vows to stand for democracy, women\\'s rights and peaceful relations with Israel if he wins the Egyptian presidency. Still, he\\'s an Islamist figure who has argued for barring women from the Egyptian presidency and called Israeli leaders \"vampires\" and \"killers.\"',\n",
       "  \"Shafik, also a former air force officer with close ties to Egypt's powerful military, is seen as representing the interests of the old guard -- those who lost out when President Mubarak was ousted.\",\n",
       "  'On Saturday, Sabahy stressed to reporters that the final results have not yet been announced and said his campaign has filed appeals.',\n",
       "  '\"With the will of the people, we will succeed. The Egyptian administration is looking at evidence of fraud,\" he said, according to his Twitter page.',\n",
       "  '\"All of the evidence proves that we acquired most of the votes and I thank the people for their valuable trust,\" Sabahy said.',\n",
       "  \"Al Ahram's count put Abdelmonen Abol Fotoh, a moderate Islamist running as an independent, and Amre Moussa, who previously served as foreign minister and headed the Arab League, in fourth and fifth places, respectively.\",\n",
       "  'Former U.S. President Jimmy Carter, who led a delegation observing the voting, told reporters in Cairo he couldn\\'t say \"the entire process has been proper\" because of some restraints on observers. But the group found the election period to be peaceful, with citizens accepting the voting process as \"quite successful.\"',\n",
       "  '\"There were many violations, and I think each violation is serious. But I think collectively they did not affect the basic integrity of the election,\" he said.',\n",
       "  'Carter said there were no apparent patterns in election procedures that \"favored a particular candidate.\"',\n",
       "  'Adel Saeed, official spokesman for Egypt\\'s prosecutor-general, said his office is working with the country\\'s election officials to investigate voter \"irregularities.\" Most of them are from the Morsi, Shafik and Moussa campaigns.',\n",
       "  '\"This matter will be taken very seriously before the announcement of official results,\" Saeed said.',\n",
       "  'The Presidential Elections Committee has finished its collection and examination of the first-round votes, having \"confirmed and validated (their) safety and accuracy,\" according to a report Saturday from the state-run Egypt News Agency.',\n",
       "  'A meeting will take place Sunday afternoon to discuss appeals, as well as to set the date when the official results will be announced, the report said.',\n",
       "  '\"A lot of Egyptians will feel like this is the worst choice that they would have to make because if it really is between Morsi and Shafik, then these are the two most polarizing candidates,\" Khaled Elgindy, a visiting fellow at the Brookings Institution in Washington who is currently in Egypt.',\n",
       "  'If the first-round results in a runoff between Morsi and Shafik, many Egyptians -- particularly liberals and \"revolutionaries\" -- will be very disappointed, Elgindy said',\n",
       "  \"Sabahy has had the backing of many who supported the Cairo's Tahrir Square uprising last year to protest Mubarak's rule. Sabahy is a proponent of late and revered Egyptian leader Gamal Abdel Nasser, who ruled the country in the '50s and '60s.\",\n",
       "  'Elgindy said it is hard to predict where the votes of liberals and revolutionaries will go if they do participate, but the Muslim Brotherhood will have to work hard if it wants to win them over, having alienated many in the past. Many people may opt to stay at home rather than make a \"very difficult choice\" in the runoff, Elgindy said.',\n",
       "  'There is also a chance of further protests and even violence regardless of who wins, Elgindy said, as revolutionary elements become increasingly marginalized and radicalized.',\n",
       "  'Mubarak led the North African nation for 30 years before being forced out last year amid a popular outcry.',\n",
       "  \"The voting is a monumental achievement for those who worked to topple Mubarak in one of the seminal developments of the Arab Spring. And it could reverberate far beyond the country's borders, since Egypt is in many ways the center of gravity of the Arab world.\",\n",
       "  \"Distrust and anger in Egypt, particularly against the military's power in governmental affairs, have inspired continued protests, some of which have been marked by deadly clashes. Many protesters are upset about what they see as the slow pace of reform since Mubarak's ouster. Some are also concerned that the country's military leadership is delaying the transition to civilian rule.\",\n",
       "  \"Worries about the powerful military possibly swaying this week's vote persist despite the insistence of the Supreme Council of the Armed Forces that it will hand over power to an elected civilian government.\",\n",
       "  'The military leaders put armored personnel carriers on the streets with loudspeakers broadcasting a message that they will relinquish power, but that did not convince doubters.',\n",
       "  \"In January, two Islamist parties -- the Freedom and Justice Party with 235 seats and the conservative Al Nour party with 121 seats -- won about 70% of the seats in the lower house of parliament in the first elections for an elected governing body in the post-Mubarak era. The rest of the assembly's 498 seats were divided among other parties.\",\n",
       "  \"CNN's Salma Abdelaziz and Ingrid Formanek, and journalists Ian Lee and Mohamed Fadel Fahmy contributed to this report.\"],\n",
       " 'scores': [0.08510637917609795,\n",
       "  0.1395348801514333,\n",
       "  0.07272726975206624,\n",
       "  0.10526315378116359,\n",
       "  0.09756097146936366,\n",
       "  0.10169491130135033,\n",
       "  0.1276595711181531,\n",
       "  0.17391303856332718,\n",
       "  0.173913038941399,\n",
       "  0.14285713877551035,\n",
       "  0.07843136895040385,\n",
       "  0.08888888497777794,\n",
       "  0.1052631530193908,\n",
       "  0.17647058366782017,\n",
       "  0.12499999531250018,\n",
       "  0.09756097192147545,\n",
       "  0.16666666346666673,\n",
       "  0.22222221777777784,\n",
       "  0.14285713795918387,\n",
       "  0.13636363239669433,\n",
       "  0.12903225306971924,\n",
       "  0.13043477807183385,\n",
       "  0.42105262670360116,\n",
       "  0.1034482725802617,\n",
       "  0.12121211698806258,\n",
       "  0.08888888543209889,\n",
       "  0.13559321752370013,\n",
       "  0.0588235250346024,\n",
       "  0.11428570932244919,\n",
       "  0.12499999625000012,\n",
       "  0.0952380923557572,\n",
       "  0.09756097146936366,\n",
       "  0.05714285306122478,\n",
       "  0.11111110809327854,\n",
       "  0.1249999950000002],\n",
       " 'top_sentences': ['A meeting will take place Sunday afternoon to discuss appeals, as well as to set the date when the official results will be announced, the report said.',\n",
       "  '\"There were many violations, and I think each violation is serious. But I think collectively they did not affect the basic integrity of the election,\" he said.',\n",
       "  '\"With the will of the people, we will succeed. The Egyptian administration is looking at evidence of fraud,\" he said, according to his Twitter page.',\n",
       "  'A runoff between Morsi and Shafik appears likely, according to unofficial results reported by Egyptian newspaper Al Ahram Online. Egyptian elections officials said the results being published by the media were \"not inaccurate.\"',\n",
       "  \"The winner of the landmark vote will become Egypt's first freely elected president.\"],\n",
       " 'top_scores': [0.42105262670360116,\n",
       "  0.22222221777777784,\n",
       "  0.17647058366782017,\n",
       "  0.173913038941399,\n",
       "  0.17391303856332718]}"
      ]
     },
     "execution_count": 14,
     "metadata": {},
     "output_type": "execute_result"
    }
   ],
   "source": [
    "stories[0]"
   ]
  },
  {
   "cell_type": "code",
   "execution_count": 15,
   "id": "1715e0a5-54df-4cc0-8ddd-262b833051c6",
   "metadata": {},
   "outputs": [],
   "source": [
    "import pandas as pd\n",
    "\n",
    "def stories_to_df(stories):\n",
    "    df = pd.DataFrame()\n",
    "    \n",
    "    story_id = []\n",
    "    sent_id = []\n",
    "    label_sent = []\n",
    "    list_sent = []\n",
    "    \n",
    "    for i, story in enumerate(stories):\n",
    "        for j, sentence in enumerate(story['sentences']):\n",
    "            story_id.append(i)\n",
    "            sent_id.append(j)\n",
    "            list_sent.append(sentence)\n",
    "            label_sent.append(sentence in story['top_sentences'])\n",
    "    \n",
    "    df['story_id'] = story_id\n",
    "    df['sent_id'] = sent_id\n",
    "    df['label_sent'] = label_sent\n",
    "    df['list_sent'] = list_sent\n",
    "    \n",
    "    return df "
   ]
  },
  {
   "cell_type": "code",
   "execution_count": 16,
   "id": "4c50394d-ee2d-4bb8-8f4d-b34977da7de0",
   "metadata": {},
   "outputs": [],
   "source": [
    "df = stories_to_df(stories)"
   ]
  },
  {
   "cell_type": "code",
   "execution_count": 17,
   "id": "bc2ccde8-3598-4341-90e0-d84433cad872",
   "metadata": {},
   "outputs": [],
   "source": [
    "df.to_pickle('dataframe_extractive.pkl')"
   ]
  }
 ],
 "metadata": {
  "kernelspec": {
   "display_name": "Python 3 (ipykernel)",
   "language": "python",
   "name": "python3"
  },
  "language_info": {
   "codemirror_mode": {
    "name": "ipython",
    "version": 3
   },
   "file_extension": ".py",
   "mimetype": "text/x-python",
   "name": "python",
   "nbconvert_exporter": "python",
   "pygments_lexer": "ipython3",
   "version": "3.10.5"
  }
 },
 "nbformat": 4,
 "nbformat_minor": 5
}
